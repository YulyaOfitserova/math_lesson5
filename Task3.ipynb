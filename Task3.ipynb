{
 "cells": [
  {
   "cell_type": "code",
   "execution_count": 2,
   "id": "d1867675",
   "metadata": {},
   "outputs": [],
   "source": [
    "import numpy as np\n",
    "import itertools"
   ]
  },
  {
   "cell_type": "code",
   "execution_count": 8,
   "id": "22eefd8f",
   "metadata": {},
   "outputs": [
    {
     "name": "stdout",
     "output_type": "stream",
     "text": [
      "[1 1 1 0 1 0 1 0 0 1] [0 0 1 1 1 0 0 0 1 0] [1 0 1 1 0 1 0 1 0 0] [0 0 0 0 1 1 1 1 0 0]\n",
      "[2 1 3 2 3 2 2 2 1 1]\n",
      "5 10 0.5\n",
      "Через биномиальное распределение: 0.375\n"
     ]
    }
   ],
   "source": [
    "#Дополните код Монте-Карло последовательности независимых испытаний расчетом соответствующих вероятностей\n",
    "#(через биномиальное распределение) и сравните результаты.\n",
    "# 4 броска, считаем вероятность выпадения 2 орла + 2 решки\n",
    "# для формулы n = 4, k = 2\n",
    "\n",
    "k, n = 0, 10\n",
    "a = np.random.randint(0, 2, n)\n",
    "b = np.random.randint(0, 2, n)\n",
    "c = np.random.randint(0, 2, n)\n",
    "d = np.random.randint(0, 2, n)\n",
    "x = a+b+c+d\n",
    "for i in range(0, n):\n",
    "    if x[i] == 2:\n",
    "        k = k + 1\n",
    "\n",
    "factorial_n = 1\n",
    "factorial_k = 2\n",
    "factorial_n_k = 2\n",
    "for i in range(2, 5):\n",
    "    factorial_n *= i\n",
    "    \n",
    "res = (factorial_n/(factorial_k * factorial_n_k))/2**4\n",
    "    \n",
    "print(a, b, c, d)\n",
    "print(x)\n",
    "print(k, n, k/n)\n",
    "print(f'Через биномиальное распределение: {res}')"
   ]
  },
  {
   "cell_type": "code",
   "execution_count": 16,
   "id": "c8944107",
   "metadata": {},
   "outputs": [
    {
     "name": "stdout",
     "output_type": "stream",
     "text": [
      "0.1171875\n"
     ]
    }
   ],
   "source": [
    "#Повторите расчеты биномиальных коэффициентов и вероятностей k успехов в последовательности из n независимых испытаний, \n",
    "#взяв другие значения n и k.\n",
    "#Например: 10 бросков монеты, 3 раза выпадает решка.\n",
    "factorial_n = 1\n",
    "factorial_k = 1\n",
    "factorial_n_k = 1\n",
    "\n",
    "for i in range(2, 11):\n",
    "    factorial_n *= i\n",
    "for i in range(2, 4):\n",
    "    factorial_k *= i\n",
    "for i in range(2, 8):\n",
    "    factorial_n_k *= i\n",
    "    \n",
    "res = (factorial_n/(factorial_k * factorial_n_k))/2**10\n",
    "print(res)"
   ]
  },
  {
   "cell_type": "code",
   "execution_count": null,
   "id": "d9009a72",
   "metadata": {},
   "outputs": [],
   "source": []
  }
 ],
 "metadata": {
  "kernelspec": {
   "display_name": "Python 3",
   "language": "python",
   "name": "python3"
  },
  "language_info": {
   "codemirror_mode": {
    "name": "ipython",
    "version": 3
   },
   "file_extension": ".py",
   "mimetype": "text/x-python",
   "name": "python",
   "nbconvert_exporter": "python",
   "pygments_lexer": "ipython3",
   "version": "3.8.8"
  }
 },
 "nbformat": 4,
 "nbformat_minor": 5
}
