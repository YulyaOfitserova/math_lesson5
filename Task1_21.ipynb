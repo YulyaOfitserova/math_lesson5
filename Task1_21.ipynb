{
 "cells": [
  {
   "cell_type": "code",
   "execution_count": 1,
   "id": "1dadf12f",
   "metadata": {},
   "outputs": [
    {
     "data": {
      "text/plain": [
       "0.7284126592370469"
      ]
     },
     "execution_count": 1,
     "metadata": {},
     "output_type": "execute_result"
    }
   ],
   "source": [
    "#Напишите код, моделирующий выпадение поля в рулетке (с учетом поля зеро).\n",
    "\n",
    "#Напишите код, проверяющий любую из теорем сложения или умножения вероятности на примере рулетки или подбрасывания монетки.\n",
    "\n",
    "%matplotlib inline\n",
    "import numpy as np\n",
    "\n",
    "np.random.uniform(0, 1)\n"
   ]
  },
  {
   "cell_type": "code",
   "execution_count": 2,
   "id": "83f7467b",
   "metadata": {},
   "outputs": [
    {
     "name": "stdout",
     "output_type": "stream",
     "text": [
      "1 48 51\n",
      "Общая сумма вероятностей возможных событий: 1.0\n",
      "Эксперимент:0.99\n",
      "Сумма вероятностей: 0.972972972972973\n"
     ]
    }
   ],
   "source": [
    "k, m, l = 0, 0, 0\n",
    "n = 100\n",
    "for i in range (0, n):\n",
    "    x = np.random.randint(0, 37)\n",
    "    if x == 0:\n",
    "        k += 1\n",
    "    elif 0 < x and x < 19:\n",
    "        m += 1\n",
    "    else:\n",
    "        l += 1\n",
    "\n",
    "sum_klm = (k+l+m)/100\n",
    "print(k, m, l)\n",
    "print(f'Общая сумма вероятностей возможных событий: {sum_klm}')\n",
    "\n",
    "#Сравним вероятность выпадения красного и черного в эксперименте и вероятность выпадения, рссчитывая с помощью суммы\n",
    "sum_lm = (l + m)/100\n",
    "sum_lm_ = 36 / 37\n",
    "print(f'Эксперимент:{sum_lm}\\nСумма вероятностей: {sum_lm_}')"
   ]
  },
  {
   "cell_type": "code",
   "execution_count": null,
   "id": "03cbac10",
   "metadata": {},
   "outputs": [],
   "source": []
  }
 ],
 "metadata": {
  "kernelspec": {
   "display_name": "Python 3",
   "language": "python",
   "name": "python3"
  },
  "language_info": {
   "codemirror_mode": {
    "name": "ipython",
    "version": 3
   },
   "file_extension": ".py",
   "mimetype": "text/x-python",
   "name": "python",
   "nbconvert_exporter": "python",
   "pygments_lexer": "ipython3",
   "version": "3.8.8"
  }
 },
 "nbformat": 4,
 "nbformat_minor": 5
}
